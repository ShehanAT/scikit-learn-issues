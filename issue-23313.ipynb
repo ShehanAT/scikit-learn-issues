{
 "cells": [
  {
   "cell_type": "code",
   "execution_count": 14,
   "metadata": {},
   "outputs": [],
   "source": [
    "import numpy as np\n",
    "from sklearn.model_selection import train_test_split\n",
    "\n",
    "data_arr = np.array([1,2915000000,  4890000000, 14145000000,2915000000,  4890000000, 14145000000,2915000000,  4890000000, 14145000000,1], dtype=np.int64)\n",
    "# data_arr = np.array(data[mask]['num_showers'])\n",
    "class_arr = np.array([1,1,2,3,1,2,3,1,2,3,2])"
   ]
  },
  {
   "cell_type": "code",
   "execution_count": 15,
   "metadata": {},
   "outputs": [
    {
     "name": "stdout",
     "output_type": "stream",
     "text": [
      "11\n",
      "[          1  2915000000  4890000000 14145000000]\n",
      "11\n",
      "[1, 2, 3]\n"
     ]
    }
   ],
   "source": [
    "print(len(data_arr))\n",
    "print(np.unique(data_arr))\n",
    "print(len(class_arr))\n",
    "print(list(np.unique(class_arr)))"
   ]
  }
 ],
 "metadata": {
  "kernelspec": {
   "display_name": "Python 3.8.10 ('scikit-env': venv)",
   "language": "python",
   "name": "python3"
  },
  "language_info": {
   "codemirror_mode": {
    "name": "ipython",
    "version": 3
   },
   "file_extension": ".py",
   "mimetype": "text/x-python",
   "name": "python",
   "nbconvert_exporter": "python",
   "pygments_lexer": "ipython3",
   "version": "3.8.10"
  },
  "orig_nbformat": 4,
  "vscode": {
   "interpreter": {
    "hash": "7bdd99f8cbab500247bf32a64fe882c06137233d6ac28873bd22e997b058ad89"
   }
  }
 },
 "nbformat": 4,
 "nbformat_minor": 2
}
