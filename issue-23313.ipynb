{
 "cells": [
  {
   "cell_type": "code",
   "execution_count": 13,
   "metadata": {},
   "outputs": [
    {
     "ename": "NameError",
     "evalue": "name 'data' is not defined",
     "output_type": "error",
     "traceback": [
      "\u001b[0;31m---------------------------------------------------------------------------\u001b[0m",
      "\u001b[0;31mNameError\u001b[0m                                 Traceback (most recent call last)",
      "\u001b[1;32m/home/sean/Documents/PythonApplications/scikit-learn-issues/issue-23313.ipynb Cell 1\u001b[0m in \u001b[0;36m<cell line: 5>\u001b[0;34m()\u001b[0m\n\u001b[1;32m      <a href='vscode-notebook-cell:/home/sean/Documents/PythonApplications/scikit-learn-issues/issue-23313.ipynb#ch0000000?line=1'>2</a>\u001b[0m \u001b[39mfrom\u001b[39;00m \u001b[39msklearn\u001b[39;00m\u001b[39m.\u001b[39;00m\u001b[39mmodel_selection\u001b[39;00m \u001b[39mimport\u001b[39;00m train_test_split\n\u001b[1;32m      <a href='vscode-notebook-cell:/home/sean/Documents/PythonApplications/scikit-learn-issues/issue-23313.ipynb#ch0000000?line=3'>4</a>\u001b[0m \u001b[39m# data_arr = np.array([1,2915000000,  4890000000, 14145000000,2915000000,  4890000000, 14145000000,2915000000,  4890000000, 14145000000,1], dtype=np.int64)\u001b[39;00m\n\u001b[0;32m----> <a href='vscode-notebook-cell:/home/sean/Documents/PythonApplications/scikit-learn-issues/issue-23313.ipynb#ch0000000?line=4'>5</a>\u001b[0m data_arr \u001b[39m=\u001b[39m np\u001b[39m.\u001b[39marray(data[mask][\u001b[39m'\u001b[39m\u001b[39mnum_showers\u001b[39m\u001b[39m'\u001b[39m])\n\u001b[1;32m      <a href='vscode-notebook-cell:/home/sean/Documents/PythonApplications/scikit-learn-issues/issue-23313.ipynb#ch0000000?line=5'>6</a>\u001b[0m class_arr \u001b[39m=\u001b[39m np\u001b[39m.\u001b[39marray([\u001b[39m1\u001b[39m,\u001b[39m1\u001b[39m,\u001b[39m2\u001b[39m,\u001b[39m3\u001b[39m,\u001b[39m1\u001b[39m,\u001b[39m2\u001b[39m,\u001b[39m3\u001b[39m,\u001b[39m1\u001b[39m,\u001b[39m2\u001b[39m,\u001b[39m3\u001b[39m,\u001b[39m2\u001b[39m])\n",
      "\u001b[0;31mNameError\u001b[0m: name 'data' is not defined"
     ]
    }
   ],
   "source": [
    "import numpy as np\n",
    "from sklearn.model_selection import train_test_split\n",
    "\n",
    "data_arr = np.array([1,2915000000,  4890000000, 14145000000,2915000000,  4890000000, 14145000000,2915000000,  4890000000, 14145000000,1], dtype=np.int64)\n",
    "# data_arr = np.array(data[mask]['num_showers'])\n",
    "class_arr = np.array([1,1,2,3,1,2,3,1,2,3,2])"
   ]
  },
  {
   "cell_type": "code",
   "execution_count": 12,
   "metadata": {},
   "outputs": [
    {
     "name": "stdout",
     "output_type": "stream",
     "text": [
      "11\n",
      "[          1  2915000000  4890000000 14145000000]\n",
      "11\n",
      "[1, 2, 3]\n"
     ]
    }
   ],
   "source": [
    "print(len(data_arr))\n",
    "print(np.unique(data_arr))\n",
    "print(len(class_arr))\n",
    "print(list(np.unique(class_arr)))"
   ]
  }
 ],
 "metadata": {
  "kernelspec": {
   "display_name": "Python 3.8.10 ('scikit-env': venv)",
   "language": "python",
   "name": "python3"
  },
  "language_info": {
   "codemirror_mode": {
    "name": "ipython",
    "version": 3
   },
   "file_extension": ".py",
   "mimetype": "text/x-python",
   "name": "python",
   "nbconvert_exporter": "python",
   "pygments_lexer": "ipython3",
   "version": "3.8.10"
  },
  "orig_nbformat": 4,
  "vscode": {
   "interpreter": {
    "hash": "7bdd99f8cbab500247bf32a64fe882c06137233d6ac28873bd22e997b058ad89"
   }
  }
 },
 "nbformat": 4,
 "nbformat_minor": 2
}
